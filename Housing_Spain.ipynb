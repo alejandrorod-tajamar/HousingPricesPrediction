{
 "cells": [
  {
   "cell_type": "markdown",
   "metadata": {},
   "source": [
    "# Configuración Inicial"
   ]
  },
  {
   "cell_type": "markdown",
   "metadata": {},
   "source": [
    "## Habilitar GPU (Google Colab)\n",
    "\n",
    "En la barra superior:\n",
    "\n",
    "1.   Entorno de ejecución\n",
    "2.   Cambiar tipo de entorno de ejecución -> GPU\n"
   ]
  },
  {
   "cell_type": "markdown",
   "metadata": {},
   "source": [
    "## Subir *dataset* (Google Colab)"
   ]
  },
  {
   "cell_type": "code",
   "execution_count": 1,
   "metadata": {},
   "outputs": [],
   "source": [
    "### QUITAR COMENTARIOS Y EJECUTAR PARA USAR EN GOOGLE COLAB ###\n",
    "\n",
    "#from google.colab import files\n",
    "\n",
    "#uploaded = files.upload()  # Seleccionar el archivo desde el sistema local"
   ]
  },
  {
   "cell_type": "markdown",
   "metadata": {},
   "source": [
    "## Importar utilidades"
   ]
  },
  {
   "cell_type": "code",
   "execution_count": 2,
   "metadata": {},
   "outputs": [],
   "source": [
    "import pandas as pd\n",
    "import matplotlib.pyplot as plt"
   ]
  },
  {
   "cell_type": "markdown",
   "metadata": {},
   "source": [
    "# 1 Procesamiento de datos"
   ]
  },
  {
   "cell_type": "markdown",
   "metadata": {},
   "source": [
    "## 1.1 Carga y exploración inicial"
   ]
  },
  {
   "cell_type": "markdown",
   "metadata": {},
   "source": [
    "### 1.1.1 Carga del dataset y visualización inicial"
   ]
  },
  {
   "cell_type": "code",
   "execution_count": 3,
   "metadata": {},
   "outputs": [
    {
     "name": "stdout",
     "output_type": "stream",
     "text": [
      "Filas originales: 24880\n"
     ]
    }
   ],
   "source": [
    "df = pd.read_csv('houses_balears.csv')\n",
    "print(\"Filas originales:\", len(df))"
   ]
  },
  {
   "cell_type": "code",
   "execution_count": 4,
   "metadata": {},
   "outputs": [
    {
     "name": "stdout",
     "output_type": "stream",
     "text": [
      "Filas originales: 24880\n",
      "Información del DataFrame:\n",
      "<class 'pandas.core.frame.DataFrame'>\n",
      "RangeIndex: 24880 entries, 0 to 24879\n",
      "Data columns (total 36 columns):\n",
      " #   Column             Non-Null Count  Dtype \n",
      "---  ------             --------------  ----- \n",
      " 0   ad_description     24356 non-null  object\n",
      " 1   ad_last_update     24880 non-null  object\n",
      " 2   air_conditioner    24880 non-null  object\n",
      " 3   balcony            24880 non-null  object\n",
      " 4   bath_num           24880 non-null  object\n",
      " 5   built_in_wardrobe  24880 non-null  object\n",
      " 6   chimney            24880 non-null  object\n",
      " 7   condition          18204 non-null  object\n",
      " 8   construct_date     10314 non-null  object\n",
      " 9   energetic_certif   18860 non-null  object\n",
      " 10  floor              16615 non-null  object\n",
      " 11  garage             11087 non-null  object\n",
      " 12  garden             24880 non-null  object\n",
      " 13  ground_size        58 non-null     object\n",
      " 14  heating            6349 non-null   object\n",
      " 15  house_id           24880 non-null  object\n",
      " 16  house_type         24880 non-null  object\n",
      " 17  kitchen            58 non-null     object\n",
      " 18  lift               10160 non-null  object\n",
      " 19  loc_city           24880 non-null  object\n",
      " 20  loc_district       20247 non-null  object\n",
      " 21  loc_full           24880 non-null  object\n",
      " 22  loc_neigh          11680 non-null  object\n",
      " 23  loc_street         3507 non-null   object\n",
      " 24  loc_zone           24880 non-null  object\n",
      " 25  m2_real            24880 non-null  object\n",
      " 26  m2_useful          11704 non-null  object\n",
      " 27  obtention_date     24880 non-null  object\n",
      " 28  orientation        10879 non-null  object\n",
      " 29  price              24880 non-null  object\n",
      " 30  reduced_mobility   24880 non-null  object\n",
      " 31  room_num           24880 non-null  object\n",
      " 32  storage_room       24880 non-null  object\n",
      " 33  swimming_pool      24880 non-null  object\n",
      " 34  terrace            24880 non-null  object\n",
      " 35  unfurnished        58 non-null     object\n",
      "dtypes: object(36)\n",
      "memory usage: 6.8+ MB\n",
      "None\n",
      "Valores no numéricos en price: 58\n",
      "Valores no numéricos en m2_real: 58\n",
      "Valores no numéricos en m2_useful: 13234\n",
      "Valores no numéricos en bath_num: 251\n",
      "Valores no numéricos en room_num: 437\n",
      "\n",
      "Filas después de limpiar columnas numéricas: 24822\n"
     ]
    }
   ],
   "source": [
    "# Mostrar información básica del DataFrame\n",
    "print(\"Filas originales:\", len(df))\n",
    "print(\"Información del DataFrame:\")\n",
    "print(df.info())\n",
    "\n",
    "# Convertir columnas numéricas a su tipo apropiado\n",
    "numeric_columns = ['price', 'm2_real', 'm2_useful', 'bath_num', 'room_num']\n",
    "\n",
    "# Convertir cada columna numérica\n",
    "for col in numeric_columns:\n",
    "    # Identificar valores no numéricos\n",
    "    non_numeric_mask = ~df[col].astype(str).str.isnumeric()\n",
    "    non_numeric_count = non_numeric_mask.sum()\n",
    "    print(f\"Valores no numéricos en {col}:\", non_numeric_count)\n",
    "    \n",
    "    # Convertir a numérico y marcar valores no numéricos como NaN\n",
    "    df[col] = pd.to_numeric(df[col], errors='coerce')\n",
    "\n",
    "# Eliminar filas con valores faltantes en price (columna crítica)\n",
    "df = df.dropna(subset=['price'])\n",
    "print(\"\\nFilas después de limpiar columnas numéricas:\", len(df))"
   ]
  },
  {
   "cell_type": "code",
   "execution_count": 5,
   "metadata": {},
   "outputs": [
    {
     "name": "stdout",
     "output_type": "stream",
     "text": [
      "\n",
      "Valores faltantes por columna:\n",
      "ad_description         524\n",
      "ad_last_update           0\n",
      "air_conditioner          0\n",
      "balcony                  0\n",
      "bath_num               193\n",
      "built_in_wardrobe        0\n",
      "chimney                  0\n",
      "condition             6676\n",
      "construct_date       14566\n",
      "energetic_certif      6020\n",
      "floor                 8265\n",
      "garage               13793\n",
      "garden                   0\n",
      "ground_size          24822\n",
      "heating              18531\n",
      "house_id                 0\n",
      "house_type               0\n",
      "kitchen              24822\n",
      "lift                 14720\n",
      "loc_city                 0\n",
      "loc_district          4633\n",
      "loc_full                 0\n",
      "loc_neigh            13200\n",
      "loc_street           21373\n",
      "loc_zone                 0\n",
      "m2_real                  0\n",
      "m2_useful            13176\n",
      "obtention_date           0\n",
      "orientation          14001\n",
      "price                    0\n",
      "reduced_mobility         0\n",
      "room_num               379\n",
      "storage_room             0\n",
      "swimming_pool            0\n",
      "terrace                  0\n",
      "unfurnished          24822\n",
      "dtype: int64\n"
     ]
    }
   ],
   "source": [
    "print(\"\\nValores faltantes por columna:\")\n",
    "print(df.isnull().sum())"
   ]
  },
  {
   "cell_type": "code",
   "execution_count": 6,
   "metadata": {},
   "outputs": [],
   "source": [
    "columns_to_drop = [\n",
    "    'ad_description',        # 524 nulos, texto libre (difícil de utilizar)\n",
    "    'ad_last_update',        # No aporta al modelo\n",
    "    'built_in_wardrobe',     # No aporta al modelo\n",
    "    #'condition',            ## 6676 nulos (66% faltante)     PARECE RELEVANTE\n",
    "    'construct_date',        # 14566 nulos (77% faltante)\n",
    "    'energetic_certif',      # 6020 nulos (60% faltante)\n",
    "    #'floor',                ## 8265 nulos (83% faltante)     PARECE RELEVANTE\n",
    "    'garage',                # 13793 nulos (69% faltante, contiene datos no manejables)\n",
    "    'ground_size',           # 24822 nulos (100% faltante)\n",
    "    'heating',               # 18531 nulos (93% faltante)\n",
    "    'house_id',              # No aporta al modelo\n",
    "    'kitchen',               # 24822 nulos (100% faltante)\n",
    "    'lift',                  # 14720 nulos (74% faltante)\n",
    "    'loc_district',          # 4633 nulos (46% faltante)\n",
    "    'loc_full',              # No aporta al modelo\n",
    "    'loc_neigh',             # 13200 nulos (66% faltante)\n",
    "    'loc_street',            # 21373 nulos (100% faltante)\n",
    "    'loc_zone',              # No aporta al modelo\n",
    "    'm2_useful',             # 13176 nulos (66% faltante, redundante con m2_real)\n",
    "    'obtention_date',        # No aporta al modelo\n",
    "    'orientation',           # 14001 nulos (70% faltante)\n",
    "    'unfurnished'            # 24822 nulos (100% faltante)\n",
    "]"
   ]
  },
  {
   "cell_type": "code",
   "execution_count": 7,
   "metadata": {},
   "outputs": [
    {
     "name": "stdout",
     "output_type": "stream",
     "text": [
      "\n",
      "Columnas restantes: ['air_conditioner', 'balcony', 'bath_num', 'chimney', 'condition', 'floor', 'garden', 'house_type', 'loc_city', 'm2_real', 'price', 'reduced_mobility', 'room_num', 'storage_room', 'swimming_pool', 'terrace']\n",
      "\n",
      "Valores faltantes después de limpieza:\n",
      "air_conditioner        0\n",
      "balcony                0\n",
      "bath_num             193\n",
      "chimney                0\n",
      "condition           6676\n",
      "floor               8265\n",
      "garden                 0\n",
      "house_type             0\n",
      "loc_city               0\n",
      "m2_real                0\n",
      "price                  0\n",
      "reduced_mobility       0\n",
      "room_num             379\n",
      "storage_room           0\n",
      "swimming_pool          0\n",
      "terrace                0\n",
      "dtype: int64\n"
     ]
    }
   ],
   "source": [
    "# Eliminar columnas seleccionadas\n",
    "df_cleaned = df.drop(columns=columns_to_drop)\n",
    "\n",
    "# Verificar resultado\n",
    "print(\"\\nColumnas restantes:\", df_cleaned.columns.tolist())\n",
    "print(\"\\nValores faltantes después de limpieza:\")\n",
    "print(df_cleaned.isnull().sum())"
   ]
  },
  {
   "cell_type": "code",
   "execution_count": 8,
   "metadata": {},
   "outputs": [
    {
     "name": "stdout",
     "output_type": "stream",
     "text": [
      "Resumen de valores faltantes:\n",
      "           Valores Nulos  Porcentaje (%)\n",
      "floor               8265           33.30\n",
      "condition           6676           26.90\n",
      "room_num             379            1.53\n",
      "bath_num             193            0.78\n"
     ]
    }
   ],
   "source": [
    "# Verificar los valores nulos por columna antes de tratarlos\n",
    "missing_values = df_cleaned.isnull().sum()\n",
    "missing_percentage = (missing_values / len(df_cleaned)) * 100\n",
    "missing_summary = pd.DataFrame({\n",
    "    'Valores Nulos': missing_values,\n",
    "    'Porcentaje (%)': missing_percentage.round(2)\n",
    "})\n",
    "print(\"Resumen de valores faltantes:\")\n",
    "print(missing_summary[missing_summary['Valores Nulos'] > 0].sort_values('Valores Nulos', ascending=False))"
   ]
  },
  {
   "cell_type": "code",
   "execution_count": 9,
   "metadata": {},
   "outputs": [
    {
     "name": "stdout",
     "output_type": "stream",
     "text": [
      "Columna 'condition' rellenada con el valor más frecuente: 'segunda mano/buen estado'\n",
      "Columna 'floor' rellenada con el valor más frecuente: '2 plantas'\n"
     ]
    }
   ],
   "source": [
    "# Tratamiento específico por columna según el tipo y la importancia\n",
    "# 1. Para columnas categóricas, rellenamos con la categoría más frecuente\n",
    "categorical_columns = ['condition', 'floor']\n",
    "for col in categorical_columns:\n",
    "    most_frequent = df_cleaned[col].mode()[0]\n",
    "    df_cleaned[col] = df_cleaned[col].fillna(most_frequent)\n",
    "    print(f\"Columna '{col}' rellenada con el valor más frecuente: '{most_frequent}'\")"
   ]
  },
  {
   "cell_type": "code",
   "execution_count": 10,
   "metadata": {},
   "outputs": [
    {
     "name": "stdout",
     "output_type": "stream",
     "text": [
      "Columna 'bath_num' rellenada con la mediana: 2.0\n",
      "Columna 'room_num' rellenada con la mediana: 3.0\n"
     ]
    }
   ],
   "source": [
    "# 2. Para columnas numéricas, rellenamos con la mediana\n",
    "numeric_cols_with_nulls = ['bath_num', 'room_num']\n",
    "for col in numeric_cols_with_nulls:\n",
    "    median_value = df_cleaned[col].median()\n",
    "    df_cleaned[col] = df_cleaned[col].fillna(median_value)\n",
    "    print(f\"Columna '{col}' rellenada con la mediana: {median_value}\")"
   ]
  },
  {
   "cell_type": "code",
   "execution_count": 11,
   "metadata": {},
   "outputs": [
    {
     "name": "stdout",
     "output_type": "stream",
     "text": [
      "\n",
      "Valores faltantes después del tratamiento:\n",
      "0 valores nulos en total\n",
      "\n",
      "Resumen estadístico de columnas numéricas:\n",
      "           bath_num      room_num        m2_real         price\n",
      "count  24822.000000  24822.000000   24822.000000  2.482200e+04\n",
      "mean       2.355733      3.430989    4312.178954  7.594706e+05\n",
      "std        1.486017      1.723239   30858.977042  1.016877e+06\n",
      "min        1.000000      1.000000       1.000000  1.000000e+00\n",
      "25%        1.000000      2.000000     100.000000  2.470000e+05\n",
      "50%        2.000000      3.000000     180.000000  4.250000e+05\n",
      "75%        3.000000      4.000000     839.750000  8.400000e+05\n",
      "max       84.000000     84.000000  900000.000000  2.300000e+07\n"
     ]
    }
   ],
   "source": [
    "# Verificar que no queden valores nulos\n",
    "print(\"\\nValores faltantes después del tratamiento:\")\n",
    "print(df_cleaned.isnull().sum().sum(), \"valores nulos en total\")\n",
    "\n",
    "# Verificar la integridad de los datos después del procesamiento\n",
    "print(\"\\nResumen estadístico de columnas numéricas:\")\n",
    "print(df_cleaned[['bath_num', 'room_num', 'm2_real', 'price']].describe())"
   ]
  },
  {
   "cell_type": "code",
   "execution_count": 12,
   "metadata": {},
   "outputs": [
    {
     "data": {
      "image/png": "[encoded data removed]",
      "text/plain": [
       "<Figure size 1000x400 with 1 Axes>"
      ]
     },
     "metadata": {},
     "output_type": "display_data"
    }
   ],
   "source": [
    "plt.figure(figsize=(10,4))\n",
    "plt.hist(df['price'], bins=50, color='blue', edgecolor='black')\n",
    "plt.title('Distribución de Precios')\n",
    "plt.xlabel('Precio (€)')\n",
    "plt.ylabel('Cantidad')\n",
    "plt.show()"
   ]
  },
  {
   "cell_type": "code",
   "execution_count": 13,
   "metadata": {},
   "outputs": [
    {
     "data": {
      "image/png": "[encoded data removed]",
      "text/plain": [
       "<Figure size 1000x200 with 1 Axes>"
      ]
     },
     "metadata": {},
     "output_type": "display_data"
    }
   ],
   "source": [
    "plt.figure(figsize=(10,2))\n",
    "plt.boxplot(df['price'], vert=False)\n",
    "plt.title('Distribución de Precios - Diagrama de Caja')\n",
    "plt.xlabel('Precio (€)')\n",
    "plt.show()"
   ]
  },
  {
   "cell_type": "code",
   "execution_count": 14,
   "metadata": {},
   "outputs": [
    {
     "name": "stdout",
     "output_type": "stream",
     "text": [
      "Límites para outliers de precio: -642500.00 - 1729500.00\n",
      "Filas antes de eliminar outliers: 24822\n",
      "Filas después de eliminar outliers: 22527\n",
      "Se eliminaron 2295 filas (9.25%)\n"
     ]
    },
    {
     "data": {
      "image/png": "[encoded data removed]",
      "text/plain": [
       "<Figure size 1200x400 with 2 Axes>"
      ]
     },
     "metadata": {},
     "output_type": "display_data"
    }
   ],
   "source": [
    "# Identificar y eliminar outliers de precio usando el método IQR (Rango Intercuartil)\n",
    "Q1 = df['price'].quantile(0.25)\n",
    "Q3 = df['price'].quantile(0.75)\n",
    "IQR = Q3 - Q1\n",
    "\n",
    "# Definir límites para considerar outliers (usando 1.5 como factor estándar)\n",
    "lower_bound = Q1 - 1.5 * IQR\n",
    "upper_bound = Q3 + 1.5 * IQR\n",
    "\n",
    "print(f\"Límites para outliers de precio: {lower_bound:.2f} - {upper_bound:.2f}\")\n",
    "print(f\"Filas antes de eliminar outliers: {len(df)}\")\n",
    "\n",
    "# Filtrar el dataframe para eliminar outliers\n",
    "df2 = df[(df['price'] >= lower_bound) & (df['price'] <= upper_bound)]\n",
    "\n",
    "print(f\"Filas después de eliminar outliers: {len(df2)}\")\n",
    "print(f\"Se eliminaron {len(df) - len(df2)} filas ({((len(df) - len(df2))/len(df)*100):.2f}%)\")\n",
    "\n",
    "# Visualizar distribución sin outliers\n",
    "plt.figure(figsize=(12,4))\n",
    "\n",
    "# Comparar histogramas: original vs sin outliers\n",
    "plt.subplot(1, 2, 1)\n",
    "plt.hist(df['price'], bins=50, color='blue', alpha=0.7, edgecolor='black')\n",
    "plt.title('Distribución original de precios')\n",
    "plt.xlabel('Precio (€)')\n",
    "plt.ylabel('Cantidad')\n",
    "\n",
    "plt.subplot(1, 2, 2)\n",
    "plt.hist(df2['price'], bins=50, color='green', alpha=0.7, edgecolor='black')\n",
    "plt.title('Distribución sin outliers')\n",
    "plt.xlabel('Precio (€)')\n",
    "\n",
    "plt.tight_layout()\n",
    "plt.show()\n",
    "\n",
    "# Actualizar el dataframe para análisis posteriores\n",
    "df = df2.copy()"
   ]
  }
 ],
 "metadata": {
  "kernelspec": {
   "display_name": ".venv",
   "language": "python",
   "name": "python3"
  },
  "language_info": {
   "codemirror_mode": {
    "name": "ipython",
    "version": 3
   },
   "file_extension": ".py",
   "mimetype": "text/x-python",
   "name": "python",
   "nbconvert_exporter": "python",
   "pygments_lexer": "ipython3",
   "version": "3.12.3"
  }
 },
 "nbformat": 4,
 "nbformat_minor": 2
}
